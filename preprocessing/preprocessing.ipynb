{
 "cells": [
  {
   "cell_type": "code",
<<<<<<< HEAD
   "execution_count": 2,
   "id": "initial_id",
   "metadata": {
    "collapsed": true,
    "ExecuteTime": {
     "end_time": "2023-11-27T14:36:11.797027Z",
     "start_time": "2023-11-27T14:36:11.676068Z"
    }
   },
   "outputs": [],
   "source": [
    "import pandas as pd\n",
    "original_data = pd.read_csv('data.csv')\n",
    "original_data = pd.DataFrame(original_data)"
   ]
  },
  {
   "cell_type": "code",
   "execution_count": 3,
   "outputs": [],
   "source": [
    "pp_data = original_data.copy(deep=True)"
   ],
   "metadata": {
    "collapsed": false,
    "ExecuteTime": {
     "end_time": "2023-11-27T14:36:13.246741Z",
     "start_time": "2023-11-27T14:36:13.237515Z"
    }
   },
   "id": "323e16937bc96f77"
  },
  {
   "cell_type": "code",
   "execution_count": 6,
   "outputs": [
    {
     "data": {
      "text/plain": "      R_fighter      B_fighter        Referee        date  \\\n0  Adrian Yanez  Gustavo Lopez  Chris Tognoni  2021-03-20   \n\n                 location Winner  title_bout  weight_class  B_avg_KD  \\\n0  Las Vegas, Nevada, USA    Red       False  Bantamweight       0.0   \n\n   B_avg_opp_KD  ...  R_win_by_Decision_Unanimous  R_win_by_KO/TKO  \\\n0           0.0  ...                            0                1   \n\n   R_win_by_Submission  R_win_by_TKO_Doctor_Stoppage  R_Stance  R_Height_cms  \\\n0                    0                             0  Orthodox        170.18   \n\n   R_Reach_cms  R_Weight_lbs  B_age  R_age  \n0        177.8         135.0   31.0   27.0  \n\n[1 rows x 144 columns]",
      "text/html": "<div>\n<style scoped>\n    .dataframe tbody tr th:only-of-type {\n        vertical-align: middle;\n    }\n\n    .dataframe tbody tr th {\n        vertical-align: top;\n    }\n\n    .dataframe thead th {\n        text-align: right;\n    }\n</style>\n<table border=\"1\" class=\"dataframe\">\n  <thead>\n    <tr style=\"text-align: right;\">\n      <th></th>\n      <th>R_fighter</th>\n      <th>B_fighter</th>\n      <th>Referee</th>\n      <th>date</th>\n      <th>location</th>\n      <th>Winner</th>\n      <th>title_bout</th>\n      <th>weight_class</th>\n      <th>B_avg_KD</th>\n      <th>B_avg_opp_KD</th>\n      <th>...</th>\n      <th>R_win_by_Decision_Unanimous</th>\n      <th>R_win_by_KO/TKO</th>\n      <th>R_win_by_Submission</th>\n      <th>R_win_by_TKO_Doctor_Stoppage</th>\n      <th>R_Stance</th>\n      <th>R_Height_cms</th>\n      <th>R_Reach_cms</th>\n      <th>R_Weight_lbs</th>\n      <th>B_age</th>\n      <th>R_age</th>\n    </tr>\n  </thead>\n  <tbody>\n    <tr>\n      <th>0</th>\n      <td>Adrian Yanez</td>\n      <td>Gustavo Lopez</td>\n      <td>Chris Tognoni</td>\n      <td>2021-03-20</td>\n      <td>Las Vegas, Nevada, USA</td>\n      <td>Red</td>\n      <td>False</td>\n      <td>Bantamweight</td>\n      <td>0.0</td>\n      <td>0.0</td>\n      <td>...</td>\n      <td>0</td>\n      <td>1</td>\n      <td>0</td>\n      <td>0</td>\n      <td>Orthodox</td>\n      <td>170.18</td>\n      <td>177.8</td>\n      <td>135.0</td>\n      <td>31.0</td>\n      <td>27.0</td>\n    </tr>\n  </tbody>\n</table>\n<p>1 rows × 144 columns</p>\n</div>"
     },
     "execution_count": 6,
     "metadata": {},
     "output_type": "execute_result"
    }
   ],
   "source": [
    "pp_data.head(1)"
   ],
   "metadata": {
    "collapsed": false,
    "ExecuteTime": {
     "end_time": "2023-11-27T14:37:15.941985Z",
     "start_time": "2023-11-27T14:37:15.900985Z"
    }
   },
   "id": "b1cc672b26e418a2"
  },
  {
   "cell_type": "code",
   "execution_count": 7,
   "outputs": [
    {
     "data": {
      "text/plain": "Index(['R_fighter', 'B_fighter', 'Referee', 'date', 'location', 'Winner',\n       'title_bout', 'weight_class', 'B_avg_KD', 'B_avg_opp_KD',\n       ...\n       'R_win_by_Decision_Unanimous', 'R_win_by_KO/TKO', 'R_win_by_Submission',\n       'R_win_by_TKO_Doctor_Stoppage', 'R_Stance', 'R_Height_cms',\n       'R_Reach_cms', 'R_Weight_lbs', 'B_age', 'R_age'],\n      dtype='object', length=144)"
     },
     "execution_count": 7,
     "metadata": {},
     "output_type": "execute_result"
    }
   ],
   "source": [
    "pp_data.columns"
   ],
   "metadata": {
    "collapsed": false,
    "ExecuteTime": {
     "end_time": "2023-11-27T14:38:03.071698Z",
     "start_time": "2023-11-27T14:38:03.058194Z"
    }
   },
   "id": "e50f2e99121ed86f"
  },
  {
   "cell_type": "code",
   "execution_count": 12,
   "outputs": [],
   "source": [
    "list_elements_to_keep = ['R_fighter', 'B_fighter','Referee','date', 'location', 'Winner', 'weight_class','R_age', 'B_age', 'R_Stance', 'B_Stance', 'R_Height_cms', 'B_Height_cms', 'R_Reach_cms', 'B_Reach_cms', 'B_Weight_lbs', 'R_Weight_lbs', 'R_current_win_streak', 'B_current_win_streak', 'R_wins', 'R_losses',  'B_wins', 'B_losses']\n",
    "\n",
    "final_data = pd.DataFrame(pp_data[list_elements_to_keep])"
   ],
   "metadata": {
    "collapsed": false,
    "ExecuteTime": {
     "end_time": "2023-11-27T15:05:00.839717Z",
     "start_time": "2023-11-27T15:05:00.800190Z"
    }
   },
   "id": "a653b469cb946fa3"
  },
  {
   "cell_type": "code",
   "execution_count": 13,
   "outputs": [
    {
     "data": {
      "text/plain": "      R_fighter      B_fighter        Referee        date  \\\n0  Adrian Yanez  Gustavo Lopez  Chris Tognoni  2021-03-20   \n\n                 location Winner  weight_class  R_age  B_age  R_Stance  ...  \\\n0  Las Vegas, Nevada, USA    Red  Bantamweight   27.0   31.0  Orthodox  ...   \n\n  R_Reach_cms  B_Reach_cms  B_Weight_lbs  R_Weight_lbs  R_current_win_streak  \\\n0       177.8       170.18         135.0         135.0                     1   \n\n   B_current_win_streak  R_wins  R_losses  B_wins  B_losses  \n0                     0       1         0       1         1  \n\n[1 rows x 23 columns]",
      "text/html": "<div>\n<style scoped>\n    .dataframe tbody tr th:only-of-type {\n        vertical-align: middle;\n    }\n\n    .dataframe tbody tr th {\n        vertical-align: top;\n    }\n\n    .dataframe thead th {\n        text-align: right;\n    }\n</style>\n<table border=\"1\" class=\"dataframe\">\n  <thead>\n    <tr style=\"text-align: right;\">\n      <th></th>\n      <th>R_fighter</th>\n      <th>B_fighter</th>\n      <th>Referee</th>\n      <th>date</th>\n      <th>location</th>\n      <th>Winner</th>\n      <th>weight_class</th>\n      <th>R_age</th>\n      <th>B_age</th>\n      <th>R_Stance</th>\n      <th>...</th>\n      <th>R_Reach_cms</th>\n      <th>B_Reach_cms</th>\n      <th>B_Weight_lbs</th>\n      <th>R_Weight_lbs</th>\n      <th>R_current_win_streak</th>\n      <th>B_current_win_streak</th>\n      <th>R_wins</th>\n      <th>R_losses</th>\n      <th>B_wins</th>\n      <th>B_losses</th>\n    </tr>\n  </thead>\n  <tbody>\n    <tr>\n      <th>0</th>\n      <td>Adrian Yanez</td>\n      <td>Gustavo Lopez</td>\n      <td>Chris Tognoni</td>\n      <td>2021-03-20</td>\n      <td>Las Vegas, Nevada, USA</td>\n      <td>Red</td>\n      <td>Bantamweight</td>\n      <td>27.0</td>\n      <td>31.0</td>\n      <td>Orthodox</td>\n      <td>...</td>\n      <td>177.8</td>\n      <td>170.18</td>\n      <td>135.0</td>\n      <td>135.0</td>\n      <td>1</td>\n      <td>0</td>\n      <td>1</td>\n      <td>0</td>\n      <td>1</td>\n      <td>1</td>\n    </tr>\n  </tbody>\n</table>\n<p>1 rows × 23 columns</p>\n</div>"
     },
     "execution_count": 13,
     "metadata": {},
     "output_type": "execute_result"
    }
   ],
   "source": [
    "final_data.head(1)"
   ],
   "metadata": {
    "collapsed": false,
    "ExecuteTime": {
     "end_time": "2023-11-27T15:05:01.889833Z",
     "start_time": "2023-11-27T15:05:01.855089Z"
    }
   },
   "id": "251229cda6309f23"
  },
  {
   "cell_type": "code",
   "execution_count": 14,
   "outputs": [],
   "source": [
    "final_data.to_csv('preprocessed_data.csv')"
   ],
   "metadata": {
    "collapsed": false,
    "ExecuteTime": {
     "end_time": "2023-11-27T15:09:47.877570Z",
     "start_time": "2023-11-27T15:09:47.751122Z"
    }
   },
   "id": "4bf13357c62e06d9"
  },
  {
   "cell_type": "code",
   "execution_count": null,
   "outputs": [],
   "source": [],
   "metadata": {
    "collapsed": false
   },
   "id": "d58361ca8576f165"
=======
   "execution_count": null,
   "id": "initial_id",
   "metadata": {
    "collapsed": true
   },
   "outputs": [],
   "source": []
>>>>>>> origin/preprocessing
  }
 ],
 "metadata": {
  "kernelspec": {
   "display_name": "Python 3",
   "language": "python",
   "name": "python3"
  },
  "language_info": {
   "codemirror_mode": {
    "name": "ipython",
    "version": 2
   },
   "file_extension": ".py",
   "mimetype": "text/x-python",
   "name": "python",
   "nbconvert_exporter": "python",
   "pygments_lexer": "ipython2",
   "version": "2.7.6"
  }
 },
 "nbformat": 4,
 "nbformat_minor": 5
}
